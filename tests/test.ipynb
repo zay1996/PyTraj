{
 "cells": [
  {
   "cell_type": "code",
   "execution_count": 3,
   "id": "10beaebc",
   "metadata": {},
   "outputs": [],
   "source": [
    "import os \n",
    "import sys\n",
    "computer = 'work'\n",
    "env = 'wsl'\n",
    "if (computer == 'work' and env == 'windows'):\n",
    "    path = \"C:\\\\OneDrive - Clark University\"\n",
    "    project_path = path + \"\\\\Desktop\\\\Research\\\\PIE\\\\RefMapComp\\\\PyTraj\\\\PyTraj\"\n",
    "if (computer == 'work' and env == 'wsl'):\n",
    "    path = '/mnt/c/OneDrive - Clark University'\n",
    "    project_path = \"/home/aizhang/pyTraj/PyTrajDev\"    \n",
    "if(computer == 'home'):\n",
    "    path = \"C:\\\\Users\\\\aiiyi\\\\OneDrive - Clark University\"\n",
    "    project_path = path + \"\\\\Desktop\\\\Research\\\\PIE\\\\RefMapComp\\\\PyTraj\\\\PyTraj\"\n",
    "os.chdir(project_path)\n",
    "sys.path.insert(0, project_path)"
   ]
  },
  {
   "cell_type": "code",
   "execution_count": null,
   "id": "531bff92",
   "metadata": {},
   "outputs": [
    {
     "data": {
      "text/plain": [
       "'/mnt/c/OneDrive - Clark University/Desktop/Research/patchmanuscript/inputs/marshbinary.tif'"
      ]
     },
     "execution_count": 4,
     "metadata": {},
     "output_type": "execute_result"
    }
   ],
   "source": [
    "#filepath = path + '/Desktop/Research/patchmanuscript/inputs/marshbinary.tif'\n",
    "pres_val = 1\n",
    "nodata_val = -1\n",
    "years = ['1938','1971','2013']\n",
    "type_ = 'raster'\n",
    "areaunit = 'perc_region'\n",
    "#weight = False # only supported for tabular data \n",
    "#chunk_size = 1000\n",
    "filepath"
   ]
  },
  {
   "cell_type": "code",
   "execution_count": null,
   "id": "0276f524",
   "metadata": {},
   "outputs": [],
   "source": [
    "filepath = \"/home/aizhang/pie_cold/data/FLII_Data/Brazil\"\n",
    "pres_val = 1\n",
    "nodata_val = 0\n",
    "years = ['2016','2017','2018','2019','2020','2021','2022']\n",
    "type_ = 'raster'\n",
    "areaunit = 'perc_region'\n"
   ]
  },
  {
   "cell_type": "code",
   "execution_count": 14,
   "id": "23b7b796",
   "metadata": {},
   "outputs": [
    {
     "name": "stdout",
     "output_type": "stream",
     "text": [
      "identifying trajectories...\n"
     ]
    },
    {
     "ename": "UnboundLocalError",
     "evalue": "cannot access local variable 'ref_change' where it is not associated with a value",
     "output_type": "error",
     "traceback": [
      "\u001b[31m---------------------------------------------------------------------------\u001b[39m",
      "\u001b[31mUnboundLocalError\u001b[39m                         Traceback (most recent call last)",
      "\u001b[36mCell\u001b[39m\u001b[36m \u001b[39m\u001b[32mIn[14]\u001b[39m\u001b[32m, line 3\u001b[39m\n\u001b[32m      1\u001b[39m \u001b[38;5;28;01mfrom\u001b[39;00m\u001b[38;5;250m \u001b[39m\u001b[34;01mpytraj\u001b[39;00m\u001b[38;5;250m \u001b[39m\u001b[38;5;28;01mimport\u001b[39;00m process_new\n\u001b[32m----> \u001b[39m\u001b[32m3\u001b[39m results = \u001b[43mprocess_new\u001b[49m\u001b[43m.\u001b[49m\u001b[43mrun_traj\u001b[49m\u001b[43m(\u001b[49m\u001b[43mfilepath\u001b[49m\u001b[43m,\u001b[49m\n\u001b[32m      4\u001b[39m \u001b[43m                      \u001b[49m\u001b[43myears\u001b[49m\u001b[43m,\u001b[49m\n\u001b[32m      5\u001b[39m \u001b[43m                      \u001b[49m\u001b[43mpres_val\u001b[49m\u001b[43m,\u001b[49m\n\u001b[32m      6\u001b[39m \u001b[43m                      \u001b[49m\u001b[43mnodata_val\u001b[49m\u001b[43m,\u001b[49m\n\u001b[32m      7\u001b[39m \u001b[43m                      \u001b[49m\u001b[43mareaunit\u001b[49m\u001b[43m \u001b[49m\u001b[43m=\u001b[49m\u001b[43m \u001b[49m\u001b[43mareaunit\u001b[49m\u001b[43m,\u001b[49m\n\u001b[32m      8\u001b[39m \u001b[43m                      \u001b[49m\u001b[43mtype_\u001b[49m\u001b[43m \u001b[49m\u001b[43m=\u001b[49m\u001b[43m \u001b[49m\u001b[43mtype_\u001b[49m\u001b[43m)\u001b[49m\n\u001b[32m      9\u001b[39m                       \u001b[38;5;66;03m#save_tif = True,\u001b[39;00m\n\u001b[32m     10\u001b[39m                       \u001b[38;5;66;03m#write_dir = 'atlantic'+filepath)\u001b[39;00m\n",
      "\u001b[36mFile \u001b[39m\u001b[32m~/anaconda3/envs/pytraj/lib/python3.12/site-packages/pytraj/process_new.py:59\u001b[39m, in \u001b[36mrun_traj\u001b[39m\u001b[34m(filepath, years, pres_val, nodata_val, areaunit, type_, weight, chunk_size, run_map, run_stacked, run_comp, save_tif, write_dir, res, annual)\u001b[39m\n\u001b[32m     50\u001b[39m input_,params = get_data.get_data(years,\n\u001b[32m     51\u001b[39m                                   pres_val,\n\u001b[32m     52\u001b[39m                                   nodata_val,\n\u001b[32m   (...)\u001b[39m\u001b[32m     56\u001b[39m                                   weight = weight,\n\u001b[32m     57\u001b[39m                                   res = res)\n\u001b[32m     58\u001b[39m functions.unwrap_params(input_,params,\u001b[38;5;28mtype\u001b[39m = type_)\n\u001b[32m---> \u001b[39m\u001b[32m59\u001b[39m ref_change,traj,input_ar = \u001b[43mfunctions\u001b[49m\u001b[43m.\u001b[49m\u001b[43mget_traj\u001b[49m\u001b[43m(\u001b[49m\u001b[43minput_\u001b[49m\u001b[43m,\u001b[49m\u001b[38;5;28;43mtype\u001b[39;49m\u001b[43m \u001b[49m\u001b[43m=\u001b[49m\u001b[43m \u001b[49m\u001b[43mtype_\u001b[49m\u001b[43m)\u001b[49m\n\u001b[32m     61\u001b[39m \u001b[38;5;28;01mif\u001b[39;00m (type_ == \u001b[33m'\u001b[39m\u001b[33msmallraster\u001b[39m\u001b[33m'\u001b[39m \u001b[38;5;129;01mand\u001b[39;00m run_map \u001b[38;5;129;01mis\u001b[39;00m \u001b[38;5;28;01mTrue\u001b[39;00m):\n\u001b[32m     62\u001b[39m     functions.plot_traj_map(traj)\n",
      "\u001b[36mFile \u001b[39m\u001b[32m~/anaconda3/envs/pytraj/lib/python3.12/site-packages/pytraj/functions.py:73\u001b[39m, in \u001b[36mget_traj\u001b[39m\u001b[34m(input_, type)\u001b[39m\n\u001b[32m     70\u001b[39m     adjacent_sum = input_ar[:-\u001b[32m1\u001b[39m,:,:] + input_ar[\u001b[32m1\u001b[39m:,:,:]\n\u001b[32m     71\u001b[39m     traj = np.zeros((nr,nc),dtype = \u001b[38;5;28mint\u001b[39m)\n\u001b[32m---> \u001b[39m\u001b[32m73\u001b[39m \u001b[43mref_change\u001b[49m[adjacent_sum == \u001b[32m2\u001b[39m*\u001b[32m2\u001b[39m] = \u001b[32m2\u001b[39m \u001b[38;5;66;03m# stable presence \u001b[39;00m\n\u001b[32m     74\u001b[39m ref_change[adjacent_sum == \u001b[32m1\u001b[39m*\u001b[32m2\u001b[39m] = \u001b[32m0\u001b[39m \u001b[38;5;66;03m# stable absence \u001b[39;00m\n\u001b[32m     76\u001b[39m \u001b[38;5;66;03m# ref_change: 0 - stable absence, -1, loss, 1, gain, 2 stable presence\u001b[39;00m\n\u001b[32m     77\u001b[39m \n\u001b[32m     78\u001b[39m \u001b[38;5;66;03m# identify trajectories \u001b[39;00m\n\u001b[32m     79\u001b[39m \n\u001b[32m     80\u001b[39m \u001b[38;5;66;03m# count number of gains and losses \u001b[39;00m\n",
      "\u001b[31mUnboundLocalError\u001b[39m: cannot access local variable 'ref_change' where it is not associated with a value"
     ]
    }
   ],
   "source": [
    "from pytraj import process_new\n",
    "\n",
    "results = process_new.run_traj(filepath,\n",
    "                      years,\n",
    "                      pres_val,\n",
    "                      nodata_val,\n",
    "                      areaunit = areaunit,\n",
    "                      type_ = type_)\n",
    "                      #save_tif = True,\n",
    "                      #write_dir = 'atlantic'+filepath)\n"
   ]
  }
 ],
 "metadata": {
  "kernelspec": {
   "display_name": "pytraj",
   "language": "python",
   "name": "python3"
  },
  "language_info": {
   "codemirror_mode": {
    "name": "ipython",
    "version": 3
   },
   "file_extension": ".py",
   "mimetype": "text/x-python",
   "name": "python",
   "nbconvert_exporter": "python",
   "pygments_lexer": "ipython3",
   "version": "3.12.9"
  }
 },
 "nbformat": 4,
 "nbformat_minor": 5
}
